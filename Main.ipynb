{
 "cells": [
  {
   "cell_type": "code",
   "execution_count": 2,
   "metadata": {},
   "outputs": [],
   "source": [
    "#Declaring random Input, Bias and Weights\n",
    "inputs=[1,2,3]\n",
    "weights=[0.2,0.8,-0.5]\n",
    "bias=2"
   ]
  },
  {
   "cell_type": "code",
   "execution_count": 4,
   "metadata": {},
   "outputs": [
    {
     "name": "stdout",
     "output_type": "stream",
     "text": [
      "2.3\n"
     ]
    }
   ],
   "source": [
    "#The output will look like this\n",
    "output=(inputs[0]*weights[0]+inputs[1]*weights[1]+inputs[2]*weights[2]+bias)\n",
    "print(output)"
   ]
  },
  {
   "cell_type": "markdown",
   "metadata": {},
   "source": [
    "Neural networks typically have layers that consist of more than one neuron. Layers are nothing \n",
    "more than groups of neurons. Each neuron in a layer takes exactly the same input"
   ]
  },
  {
   "cell_type": "code",
   "execution_count": 5,
   "metadata": {},
   "outputs": [
    {
     "name": "stdout",
     "output_type": "stream",
     "text": [
      "[5.0600000000000005, 1.2999999999999998, 3.44]\n"
     ]
    }
   ],
   "source": [
    "#Making 3 neuron with 4 inputs\n",
    "inputs=[1,2,3,5]\n",
    "\n",
    "weights1=[0.5,0.23,-0.4,0.66]\n",
    "weights2=[0.1,-0.4,0.9,-0.44]\n",
    "weights3=[-0.3,0.6,-0.22,0.54]\n",
    "\n",
    "bias1=2\n",
    "bias2=1.5\n",
    "bias3=0.5\n",
    "\n",
    "output=[\n",
    "    inputs[0]*weights1[0]+inputs[1]*weights1[1]+inputs[2]*weights1[2]+inputs[3]*weights1[3]+bias1,\n",
    "    inputs[0]*weights2[0]+inputs[1]*weights2[1]+inputs[2]*weights2[2]+inputs[3]*weights2[3]+bias2,\n",
    "    inputs[0]*weights3[0]+inputs[1]*weights3[1]+inputs[2]*weights3[2]+inputs[3]*weights3[3]+bias3\n",
    "]\n",
    "print(output)"
   ]
  },
  {
   "cell_type": "code",
   "execution_count": 14,
   "metadata": {},
   "outputs": [
    {
     "name": "stdout",
     "output_type": "stream",
     "text": [
      "[3.75, 5.665, 6.4350000000000005]\n"
     ]
    }
   ],
   "source": [
    "#Making a better code with loops\n",
    "inputs=[1,0.5,2.5,4]\n",
    "weights=[[0.3,0.4,-0.22,0.45],\n",
    "         [0.45,0.23,-0.44,0.8],\n",
    "         [0.81,0.56,-0.55,0.78]]\n",
    "biases=[2,3,3.6]\n",
    "layer_outputs=[]\n",
    "for neuron_bias,neuron_weights in zip(biases,weights):\n",
    "    neuron_output=0\n",
    "    for n_inputs,n_weight in zip(inputs,neuron_weights):\n",
    "        neuron_output += n_inputs*n_weight\n",
    "    neuron_output += neuron_bias\n",
    "    layer_outputs.append(neuron_output)\n",
    "print(layer_outputs)"
   ]
  },
  {
   "cell_type": "markdown",
   "metadata": {},
   "source": [
    "A tensor object is an object that can be represented as an array."
   ]
  },
  {
   "cell_type": "code",
   "execution_count": 17,
   "metadata": {},
   "outputs": [
    {
     "name": "stdout",
     "output_type": "stream",
     "text": [
      "14\n"
     ]
    }
   ],
   "source": [
    "#DOT Product in python\n",
    "A=[1,2,3]\n",
    "B=[3,-2,5]\n",
    "output=0\n",
    "for i,j in zip(A,B):\n",
    "    output += i*j\n",
    "print(output)"
   ]
  },
  {
   "cell_type": "code",
   "execution_count": null,
   "metadata": {},
   "outputs": [],
   "source": [
    "#single neuron with numpy"
   ]
  }
 ],
 "metadata": {
  "kernelspec": {
   "display_name": "Python 3",
   "language": "python",
   "name": "python3"
  },
  "language_info": {
   "codemirror_mode": {
    "name": "ipython",
    "version": 3
   },
   "file_extension": ".py",
   "mimetype": "text/x-python",
   "name": "python",
   "nbconvert_exporter": "python",
   "pygments_lexer": "ipython3",
   "version": "3.11.9"
  }
 },
 "nbformat": 4,
 "nbformat_minor": 2
}
